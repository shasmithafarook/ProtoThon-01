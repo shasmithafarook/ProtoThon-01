{
 "cells": [
  {
   "cell_type": "code",
   "execution_count": null,
   "metadata": {},
   "outputs": [],
   "source": [
    "import random\n",
    "import os\n",
    "import csv\n",
    "j=1\n",
    "a= [['#', 'NUM1','NUM2','NUM3','NUM4','NUM5']]\n",
    "for i in range(1,3):\n",
    "    k=open(f\"myfilekk{i}.csv\", \"x\")\n",
    "    while os.stat(f\"myfilekk{i}.csv\").st_size< 2048:\n",
    "        a.append([j,random.randint(1,101),random.randint(1,101),random.randint(1,101),random.randint(1,101),random.randint(1,101)])\n",
    "        j=j+1\n",
    "        with open(f\"myfilekk{i}.csv\", 'w') as csvFile:\n",
    "            writer = csv.writer(csvFile)\n",
    "            writer.writerows(a)\n"
   ]
  }
 ],
 "metadata": {
  "kernelspec": {
   "display_name": "Python 3",
   "language": "python",
   "name": "python3"
  },
  "language_info": {
   "codemirror_mode": {
    "name": "ipython",
    "version": 3
   },
   "file_extension": ".py",
   "mimetype": "text/x-python",
   "name": "python",
   "nbconvert_exporter": "python",
   "pygments_lexer": "ipython3",
   "version": "3.7.1"
  }
 },
 "nbformat": 4,
 "nbformat_minor": 2
}
